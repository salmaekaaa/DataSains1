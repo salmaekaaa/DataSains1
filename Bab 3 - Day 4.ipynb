{
 "cells": [
  {
   "cell_type": "markdown",
   "metadata": {},
   "source": [
    "## A. Strings"
   ]
  },
  {
   "cell_type": "markdown",
   "metadata": {},
   "source": [
    "Strings adalah data text yang di representasikan dengan single/double/triple quotes."
   ]
  },
  {
   "cell_type": "code",
   "execution_count": 103,
   "metadata": {
    "collapsed": false,
    "jupyter": {
     "outputs_hidden": false
    }
   },
   "outputs": [],
   "source": [
    "String0 = 'Masih belajar coding disini'\n",
    "String1 = \"Masih belajar coding disini\"\n",
    "String2 = '''Masih\n",
    "belajar\n",
    "coding\n",
    "disini'''"
   ]
  },
  {
   "cell_type": "code",
   "execution_count": 4,
   "metadata": {
    "collapsed": false,
    "jupyter": {
     "outputs_hidden": false
    }
   },
   "outputs": [
    {
     "name": "stdout",
     "output_type": "stream",
     "text": [
      "Masih belajar coding disini <class 'str'>\n",
      "Masih belajar coding disini <class 'str'>\n",
      "Masih\n",
      "belajar\n",
      "coding\n",
      "disini <class 'str'>\n"
     ]
    }
   ],
   "source": [
    "print(String0, type(String0))\n",
    "print(String1, type(String1))\n",
    "print(String2, type(String2))"
   ]
  },
  {
   "cell_type": "markdown",
   "metadata": {},
   "source": [
    "String punya index dan bisa di slice seperti list"
   ]
  },
  {
   "cell_type": "code",
   "execution_count": 5,
   "metadata": {
    "collapsed": false,
    "jupyter": {
     "outputs_hidden": false
    }
   },
   "outputs": [
    {
     "name": "stdout",
     "output_type": "stream",
     "text": [
      "h\n",
      "h belajar coding disini\n"
     ]
    }
   ],
   "source": [
    "print(String0[4])\n",
    "print(String0[4:])"
   ]
  },
  {
   "cell_type": "markdown",
   "metadata": {},
   "source": [
    "### Built-in Functions"
   ]
  },
  {
   "cell_type": "markdown",
   "metadata": {},
   "source": [
    "**find( )**"
   ]
  },
  {
   "cell_type": "code",
   "execution_count": 6,
   "metadata": {
    "collapsed": false,
    "jupyter": {
     "outputs_hidden": false
    }
   },
   "outputs": [
    {
     "name": "stdout",
     "output_type": "stream",
     "text": [
      "6\n",
      "-1\n"
     ]
    }
   ],
   "source": [
    "print(String0.find('be'))\n",
    "print(String0.find('am'))"
   ]
  },
  {
   "cell_type": "markdown",
   "metadata": {},
   "source": [
    "**capitalize( )** "
   ]
  },
  {
   "cell_type": "code",
   "execution_count": 9,
   "metadata": {
    "collapsed": false,
    "jupyter": {
     "outputs_hidden": false
    }
   },
   "outputs": [
    {
     "name": "stdout",
     "output_type": "stream",
     "text": [
      "Observe the first letter in this sentence.\n"
     ]
    }
   ],
   "source": [
    "String3 = 'observe the first letter in this sentence.'\n",
    "print(String3.capitalize())"
   ]
  },
  {
   "cell_type": "markdown",
   "metadata": {},
   "source": [
    "**center( )**"
   ]
  },
  {
   "cell_type": "code",
   "execution_count": 24,
   "metadata": {},
   "outputs": [
    {
     "data": {
      "text/plain": [
       "27"
      ]
     },
     "execution_count": 24,
     "metadata": {},
     "output_type": "execute_result"
    }
   ],
   "source": [
    "len(String0)"
   ]
  },
  {
   "cell_type": "code",
   "execution_count": 17,
   "metadata": {
    "collapsed": false,
    "jupyter": {
     "outputs_hidden": false
    }
   },
   "outputs": [
    {
     "data": {
      "text/plain": [
       "'                          Masih belajar coding disini                           '"
      ]
     },
     "execution_count": 17,
     "metadata": {},
     "output_type": "execute_result"
    }
   ],
   "source": [
    "String0.center(80)"
   ]
  },
  {
   "cell_type": "code",
   "execution_count": 28,
   "metadata": {
    "collapsed": false,
    "jupyter": {
     "outputs_hidden": false
    }
   },
   "outputs": [
    {
     "data": {
      "text/plain": [
       "'----------Masih belajar coding disini----------'"
      ]
     },
     "execution_count": 28,
     "metadata": {},
     "output_type": "execute_result"
    }
   ],
   "source": [
    "String0.center(20+27,'-')"
   ]
  },
  {
   "cell_type": "markdown",
   "metadata": {},
   "source": [
    "**expandtabs( )**"
   ]
  },
  {
   "cell_type": "code",
   "execution_count": 29,
   "metadata": {
    "collapsed": false,
    "jupyter": {
     "outputs_hidden": false
    }
   },
   "outputs": [
    {
     "name": "stdout",
     "output_type": "stream",
     "text": [
      "s\tu\td\ta\th\n",
      "s u d a h\n",
      "s       u       d       a       h\n"
     ]
    }
   ],
   "source": [
    "s = 's\\tu\\td\\ta\\th'\n",
    "print(s)\n",
    "print(s.expandtabs(1))\n",
    "print(s.expandtabs())"
   ]
  },
  {
   "cell_type": "code",
   "execution_count": 30,
   "metadata": {},
   "outputs": [
    {
     "data": {
      "text/plain": [
       "'Masih belajar coding disini'"
      ]
     },
     "execution_count": 30,
     "metadata": {},
     "output_type": "execute_result"
    }
   ],
   "source": [
    "String0"
   ]
  },
  {
   "cell_type": "code",
   "execution_count": 32,
   "metadata": {
    "collapsed": false,
    "jupyter": {
     "outputs_hidden": false
    }
   },
   "outputs": [
    {
     "name": "stdout",
     "output_type": "stream",
     "text": [
      "6\n",
      "0\n"
     ]
    },
    {
     "ename": "ValueError",
     "evalue": "substring not found",
     "output_type": "error",
     "traceback": [
      "\u001b[1;31m---------------------------------------------------------------------------\u001b[0m",
      "\u001b[1;31mValueError\u001b[0m                                Traceback (most recent call last)",
      "\u001b[1;32m<ipython-input-32-be1398835a68>\u001b[0m in \u001b[0;36m<module>\u001b[1;34m\u001b[0m\n\u001b[0;32m      1\u001b[0m \u001b[0mprint\u001b[0m\u001b[1;33m(\u001b[0m\u001b[0mString0\u001b[0m\u001b[1;33m.\u001b[0m\u001b[0mindex\u001b[0m\u001b[1;33m(\u001b[0m\u001b[1;34m'bel'\u001b[0m\u001b[1;33m)\u001b[0m\u001b[1;33m)\u001b[0m\u001b[1;33m\u001b[0m\u001b[1;33m\u001b[0m\u001b[0m\n\u001b[0;32m      2\u001b[0m \u001b[0mprint\u001b[0m\u001b[1;33m(\u001b[0m\u001b[0mString0\u001b[0m\u001b[1;33m.\u001b[0m\u001b[0mindex\u001b[0m\u001b[1;33m(\u001b[0m\u001b[1;34m'Masih'\u001b[0m\u001b[1;33m,\u001b[0m\u001b[1;36m0\u001b[0m\u001b[1;33m)\u001b[0m\u001b[1;33m)\u001b[0m\u001b[1;33m\u001b[0m\u001b[1;33m\u001b[0m\u001b[0m\n\u001b[1;32m----> 3\u001b[1;33m \u001b[0mprint\u001b[0m\u001b[1;33m(\u001b[0m\u001b[0mString0\u001b[0m\u001b[1;33m.\u001b[0m\u001b[0mindex\u001b[0m\u001b[1;33m(\u001b[0m\u001b[1;34m'Masih'\u001b[0m\u001b[1;33m,\u001b[0m\u001b[1;36m10\u001b[0m\u001b[1;33m,\u001b[0m\u001b[1;36m20\u001b[0m\u001b[1;33m)\u001b[0m\u001b[1;33m)\u001b[0m\u001b[1;33m\u001b[0m\u001b[1;33m\u001b[0m\u001b[0m\n\u001b[0m",
      "\u001b[1;31mValueError\u001b[0m: substring not found"
     ]
    }
   ],
   "source": [
    "print(String0.index('bel'))\n",
    "print(String0.index('Masih',0))\n",
    "print(String0.index('Masih',10,20))"
   ]
  },
  {
   "cell_type": "markdown",
   "metadata": {},
   "source": [
    "**endswith( )**"
   ]
  },
  {
   "cell_type": "code",
   "execution_count": null,
   "metadata": {},
   "outputs": [],
   "source": []
  },
  {
   "cell_type": "code",
   "execution_count": 33,
   "metadata": {
    "collapsed": false,
    "jupyter": {
     "outputs_hidden": false
    }
   },
   "outputs": [
    {
     "name": "stdout",
     "output_type": "stream",
     "text": [
      "False\n"
     ]
    }
   ],
   "source": [
    "print(String0.endswith('y'))"
   ]
  },
  {
   "cell_type": "code",
   "execution_count": 34,
   "metadata": {},
   "outputs": [
    {
     "name": "stdout",
     "output_type": "stream",
     "text": [
      "True\n"
     ]
    }
   ],
   "source": [
    "String0_2='cuma nyobay'\n",
    "print(String0_2.endswith('y'))"
   ]
  },
  {
   "cell_type": "code",
   "execution_count": null,
   "metadata": {},
   "outputs": [],
   "source": []
  },
  {
   "cell_type": "markdown",
   "metadata": {},
   "source": [
    "The start and stop index values can also be specified."
   ]
  },
  {
   "cell_type": "code",
   "execution_count": 35,
   "metadata": {
    "collapsed": false,
    "jupyter": {
     "outputs_hidden": false
    }
   },
   "outputs": [
    {
     "name": "stdout",
     "output_type": "stream",
     "text": [
      "False\n",
      "False\n"
     ]
    }
   ],
   "source": [
    "print(String0.endswith('l',0))\n",
    "print(String0.endswith('M',0,5))"
   ]
  },
  {
   "cell_type": "markdown",
   "metadata": {},
   "source": [
    "**count( )**"
   ]
  },
  {
   "cell_type": "code",
   "execution_count": 36,
   "metadata": {
    "collapsed": false,
    "jupyter": {
     "outputs_hidden": false
    }
   },
   "outputs": [
    {
     "name": "stdout",
     "output_type": "stream",
     "text": [
      "2\n",
      "1\n"
     ]
    }
   ],
   "source": [
    "print(String0.count('a',5))\n",
    "print(String0.count('a',10,20))"
   ]
  },
  {
   "cell_type": "markdown",
   "metadata": {},
   "source": [
    "**join( )**"
   ]
  },
  {
   "cell_type": "code",
   "execution_count": 37,
   "metadata": {},
   "outputs": [
    {
     "data": {
      "text/plain": [
       "'p-y-t-h-o-n'"
      ]
     },
     "execution_count": 37,
     "metadata": {},
     "output_type": "execute_result"
    }
   ],
   "source": [
    "'-'.join('python')"
   ]
  },
  {
   "cell_type": "code",
   "execution_count": 29,
   "metadata": {
    "collapsed": false,
    "jupyter": {
     "outputs_hidden": false
    }
   },
   "outputs": [
    {
     "data": {
      "text/plain": [
       "'-a_a-a!'"
      ]
     },
     "execution_count": 29,
     "metadata": {},
     "output_type": "execute_result"
    }
   ],
   "source": [
    "'a'.join('-_-!')"
   ]
  },
  {
   "cell_type": "markdown",
   "metadata": {},
   "source": [
    "bisa juga untuk menggabung element2 di list"
   ]
  },
  {
   "cell_type": "code",
   "execution_count": 104,
   "metadata": {
    "collapsed": false,
    "jupyter": {
     "outputs_hidden": false
    }
   },
   "outputs": [
    {
     "name": "stdout",
     "output_type": "stream",
     "text": [
      "['M', 'a', 's', 'i', 'h', ' ', 'b', 'e', 'l', 'a', 'j', 'a', 'r', ' ', 'c', 'o', 'd', 'i', 'n', 'g', ' ', 'd', 'i', 's', 'i', 'n', 'i']\n",
      "M_a_s_i_h_ _b_e_l_a_j_a_r_ _c_o_d_i_n_g_ _d_i_s_i_n_i\n"
     ]
    }
   ],
   "source": [
    "a = list(String0)\n",
    "print(a)\n",
    "b = '_'.join(a)\n",
    "print(b)"
   ]
  },
  {
   "cell_type": "code",
   "execution_count": 40,
   "metadata": {
    "collapsed": false,
    "jupyter": {
     "outputs_hidden": false
    }
   },
   "outputs": [
    {
     "name": "stdout",
     "output_type": "stream",
     "text": [
      " /b/e/l/a/j/a/r/ /c/o/d/i/n/g/ /d/i/s/i/n/i\n"
     ]
    }
   ],
   "source": [
    "c = '/'.join(a)[10:]\n",
    "print(c)"
   ]
  },
  {
   "cell_type": "markdown",
   "metadata": {},
   "source": [
    "**split( )**"
   ]
  },
  {
   "cell_type": "code",
   "execution_count": 41,
   "metadata": {},
   "outputs": [
    {
     "data": {
      "text/plain": [
       "' /b/e/l/a/j/a/r/ /c/o/d/i/n/g/ /d/i/s/i/n/i'"
      ]
     },
     "execution_count": 41,
     "metadata": {},
     "output_type": "execute_result"
    }
   ],
   "source": [
    "c"
   ]
  },
  {
   "cell_type": "code",
   "execution_count": 42,
   "metadata": {
    "collapsed": false,
    "jupyter": {
     "outputs_hidden": false
    }
   },
   "outputs": [
    {
     "name": "stdout",
     "output_type": "stream",
     "text": [
      "[' ', 'b', 'e', 'l', 'a', 'j', 'a', 'r', ' ', 'c', 'o', 'd', 'i', 'n', 'g', ' ', 'd', 'i', 's', 'i', 'n', 'i']\n"
     ]
    }
   ],
   "source": [
    "d = c.split('/')\n",
    "print(d)"
   ]
  },
  {
   "cell_type": "code",
   "execution_count": 43,
   "metadata": {
    "collapsed": false,
    "jupyter": {
     "outputs_hidden": false
    }
   },
   "outputs": [
    {
     "name": "stdout",
     "output_type": "stream",
     "text": [
      "[' ', 'b', 'e', 'l', 'a', 'j/a/r/ /c/o/d/i/n/g/ /d/i/s/i/n/i']\n"
     ]
    }
   ],
   "source": [
    "e = c.split('/',5)\n",
    "print(e)"
   ]
  },
  {
   "cell_type": "markdown",
   "metadata": {},
   "source": [
    "**lower( )** dan **upper( )**"
   ]
  },
  {
   "cell_type": "code",
   "execution_count": 44,
   "metadata": {
    "collapsed": false,
    "jupyter": {
     "outputs_hidden": false
    }
   },
   "outputs": [
    {
     "name": "stdout",
     "output_type": "stream",
     "text": [
      "Masih belajar coding disini\n",
      "masih belajar coding disini\n"
     ]
    }
   ],
   "source": [
    "print(String0)\n",
    "print(String0.lower())"
   ]
  },
  {
   "cell_type": "code",
   "execution_count": 45,
   "metadata": {
    "collapsed": false,
    "jupyter": {
     "outputs_hidden": false
    }
   },
   "outputs": [
    {
     "data": {
      "text/plain": [
       "'MASIH BELAJAR CODING DISINI'"
      ]
     },
     "execution_count": 45,
     "metadata": {},
     "output_type": "execute_result"
    }
   ],
   "source": [
    "String0.upper()"
   ]
  },
  {
   "cell_type": "markdown",
   "metadata": {},
   "source": [
    "**replace( )**"
   ]
  },
  {
   "cell_type": "code",
   "execution_count": 46,
   "metadata": {},
   "outputs": [
    {
     "data": {
      "text/plain": [
       "'Masih belajar coding disini'"
      ]
     },
     "execution_count": 46,
     "metadata": {},
     "output_type": "execute_result"
    }
   ],
   "source": [
    "String0"
   ]
  },
  {
   "cell_type": "code",
   "execution_count": 47,
   "metadata": {
    "collapsed": false,
    "jupyter": {
     "outputs_hidden": false
    }
   },
   "outputs": [
    {
     "data": {
      "text/plain": [
       "'Masih belajar programming disini'"
      ]
     },
     "execution_count": 47,
     "metadata": {},
     "output_type": "execute_result"
    }
   ],
   "source": [
    "String0.replace('coding','programming')"
   ]
  },
  {
   "cell_type": "code",
   "execution_count": 49,
   "metadata": {},
   "outputs": [],
   "source": [
    "String0_3=String0.replace('coding','programming')"
   ]
  },
  {
   "cell_type": "code",
   "execution_count": 50,
   "metadata": {},
   "outputs": [
    {
     "data": {
      "text/plain": [
       "('Masih belajar coding disini', 'Masih belajar programming disini')"
      ]
     },
     "execution_count": 50,
     "metadata": {},
     "output_type": "execute_result"
    }
   ],
   "source": [
    "String0,String0_3"
   ]
  },
  {
   "cell_type": "markdown",
   "metadata": {},
   "source": [
    "**strip( )**"
   ]
  },
  {
   "cell_type": "code",
   "execution_count": 51,
   "metadata": {},
   "outputs": [
    {
     "data": {
      "text/plain": [
       "'hello'"
      ]
     },
     "execution_count": 51,
     "metadata": {},
     "output_type": "execute_result"
    }
   ],
   "source": [
    "f = '    hello   '\n",
    "f.strip()"
   ]
  },
  {
   "cell_type": "code",
   "execution_count": null,
   "metadata": {},
   "outputs": [],
   "source": []
  },
  {
   "cell_type": "markdown",
   "metadata": {},
   "source": [
    "Menambah string"
   ]
  },
  {
   "cell_type": "code",
   "execution_count": 52,
   "metadata": {},
   "outputs": [
    {
     "data": {
      "text/plain": [
       "'kitabersama'"
      ]
     },
     "execution_count": 52,
     "metadata": {},
     "output_type": "execute_result"
    }
   ],
   "source": [
    "saya = 'kita'\n",
    "kamu = 'bersama'\n",
    "\n",
    "saya+kamu"
   ]
  },
  {
   "cell_type": "code",
   "execution_count": 53,
   "metadata": {},
   "outputs": [
    {
     "data": {
      "text/plain": [
       "'kita bersama'"
      ]
     },
     "execution_count": 53,
     "metadata": {},
     "output_type": "execute_result"
    }
   ],
   "source": [
    "saya+' '+kamu"
   ]
  },
  {
   "cell_type": "code",
   "execution_count": null,
   "metadata": {},
   "outputs": [],
   "source": []
  },
  {
   "cell_type": "markdown",
   "metadata": {},
   "source": [
    "## B. Dictionaries"
   ]
  },
  {
   "cell_type": "markdown",
   "metadata": {},
   "source": [
    "Dictionaries berguna seperti databasen dan bisa diberi index sesuai kebutuhan (tidak harus integer). Seperti JSON"
   ]
  },
  {
   "cell_type": "markdown",
   "metadata": {},
   "source": [
    "bisa gunakan dict() or {}"
   ]
  },
  {
   "cell_type": "code",
   "execution_count": 54,
   "metadata": {
    "collapsed": false,
    "jupyter": {
     "outputs_hidden": false
    }
   },
   "outputs": [
    {
     "name": "stdout",
     "output_type": "stream",
     "text": [
      "<class 'dict'> <class 'dict'>\n"
     ]
    }
   ],
   "source": [
    "## Dictionary kosong\n",
    "d0 = {}\n",
    "d1 = dict()\n",
    "print(type(d0), type(d1))"
   ]
  },
  {
   "cell_type": "code",
   "execution_count": 55,
   "metadata": {
    "collapsed": false,
    "jupyter": {
     "outputs_hidden": false
    }
   },
   "outputs": [
    {
     "name": "stdout",
     "output_type": "stream",
     "text": [
      "{'satu': 1, 'tigaempat': 34, 'coba_list': [4, 5, 'haha']}\n"
     ]
    }
   ],
   "source": [
    "d0['satu'] = 1\n",
    "d0['tigaempat'] = 34\n",
    "d0['coba_list'] = [4,5,'haha']\n",
    "print(d0)"
   ]
  },
  {
   "cell_type": "code",
   "execution_count": 61,
   "metadata": {},
   "outputs": [],
   "source": [
    "d1={}\n",
    "d1['contoh_dict']=d0\n",
    "d1['others']='hanya string'\n",
    "d1[2.3]='ini float'"
   ]
  },
  {
   "cell_type": "code",
   "execution_count": 62,
   "metadata": {},
   "outputs": [
    {
     "data": {
      "text/plain": [
       "{'contoh_dict': {'satu': 1, 'tigaempat': 34, 'coba_list': [4, 5, 'haha']},\n",
       " 'others': 'hanya string',\n",
       " 2.3: 'ini float'}"
      ]
     },
     "execution_count": 62,
     "metadata": {},
     "output_type": "execute_result"
    }
   ],
   "source": [
    "d1"
   ]
  },
  {
   "cell_type": "code",
   "execution_count": 63,
   "metadata": {},
   "outputs": [
    {
     "data": {
      "text/plain": [
       "'haha'"
      ]
     },
     "execution_count": 63,
     "metadata": {},
     "output_type": "execute_result"
    }
   ],
   "source": [
    "d1['contoh_dict']['coba_list'][2]"
   ]
  },
  {
   "cell_type": "code",
   "execution_count": null,
   "metadata": {
    "collapsed": false,
    "jupyter": {
     "outputs_hidden": false
    }
   },
   "outputs": [],
   "source": []
  },
  {
   "cell_type": "markdown",
   "metadata": {},
   "source": [
    "**zip( )**"
   ]
  },
  {
   "cell_type": "code",
   "execution_count": 86,
   "metadata": {
    "collapsed": false,
    "jupyter": {
     "outputs_hidden": false
    }
   },
   "outputs": [],
   "source": [
    "# gabungkan 2 list. dan bisa dijadikan dict\n",
    "names = ['satu', 'tujuh', 'saya', '4', 4]\n",
    "numbers = [1, 7, 'me', 4, 'empat']"
   ]
  },
  {
   "cell_type": "code",
   "execution_count": 87,
   "metadata": {},
   "outputs": [],
   "source": [
    "d2 = zip(names,numbers)\n",
    "# list(d2)"
   ]
  },
  {
   "cell_type": "code",
   "execution_count": null,
   "metadata": {},
   "outputs": [],
   "source": []
  },
  {
   "cell_type": "code",
   "execution_count": 88,
   "metadata": {
    "collapsed": false,
    "jupyter": {
     "outputs_hidden": false
    }
   },
   "outputs": [
    {
     "name": "stdout",
     "output_type": "stream",
     "text": [
      "{'satu': 1, 'tujuh': 7, 'saya': 'me', '4': 4, 4: 'empat'}\n"
     ]
    }
   ],
   "source": [
    "a1 = dict(d2)\n",
    "print(a1)"
   ]
  },
  {
   "cell_type": "code",
   "execution_count": 89,
   "metadata": {},
   "outputs": [
    {
     "data": {
      "text/plain": [
       "(4, 'empat')"
      ]
     },
     "execution_count": 89,
     "metadata": {},
     "output_type": "execute_result"
    }
   ],
   "source": [
    "a1['4'],a1[4]"
   ]
  },
  {
   "cell_type": "markdown",
   "metadata": {},
   "source": [
    "### Built-in Functions"
   ]
  },
  {
   "cell_type": "markdown",
   "metadata": {},
   "source": [
    "**clear( )**"
   ]
  },
  {
   "cell_type": "code",
   "execution_count": 90,
   "metadata": {
    "collapsed": false,
    "jupyter": {
     "outputs_hidden": false
    }
   },
   "outputs": [
    {
     "name": "stdout",
     "output_type": "stream",
     "text": [
      "{}\n"
     ]
    }
   ],
   "source": [
    "a1.clear()\n",
    "print(a1)"
   ]
  },
  {
   "cell_type": "markdown",
   "metadata": {},
   "source": [
    "**values( )**"
   ]
  },
  {
   "cell_type": "code",
   "execution_count": 91,
   "metadata": {},
   "outputs": [
    {
     "data": {
      "text/plain": [
       "{'satu': 1, 'tigaempat': 34, 'coba_list': [4, 5, 'haha']}"
      ]
     },
     "execution_count": 91,
     "metadata": {},
     "output_type": "execute_result"
    }
   ],
   "source": [
    "d0"
   ]
  },
  {
   "cell_type": "code",
   "execution_count": 92,
   "metadata": {
    "collapsed": false,
    "jupyter": {
     "outputs_hidden": false
    }
   },
   "outputs": [
    {
     "data": {
      "text/plain": [
       "dict_values([1, 34, [4, 5, 'haha']])"
      ]
     },
     "execution_count": 92,
     "metadata": {},
     "output_type": "execute_result"
    }
   ],
   "source": [
    "d0.values()"
   ]
  },
  {
   "cell_type": "markdown",
   "metadata": {},
   "source": [
    "**keys( )**"
   ]
  },
  {
   "cell_type": "code",
   "execution_count": 93,
   "metadata": {
    "collapsed": false,
    "jupyter": {
     "outputs_hidden": false
    }
   },
   "outputs": [
    {
     "data": {
      "text/plain": [
       "dict_keys(['satu', 'tigaempat', 'coba_list'])"
      ]
     },
     "execution_count": 93,
     "metadata": {},
     "output_type": "execute_result"
    }
   ],
   "source": [
    "d0.keys()"
   ]
  },
  {
   "cell_type": "code",
   "execution_count": 97,
   "metadata": {},
   "outputs": [],
   "source": [
    "d5={}\n",
    "d5['1']='patah'\n",
    "d5['2']='3'\n",
    "d5[4]='Saya'\n",
    "d5['orang']='baru'\n",
    "d5[9]='ganjil'\n"
   ]
  },
  {
   "cell_type": "code",
   "execution_count": 98,
   "metadata": {},
   "outputs": [
    {
     "data": {
      "text/plain": [
       "{'1': 'patah', '2': '3', 4: 'Saya', 'orang': 'baru', 9: 'ganjil'}"
      ]
     },
     "execution_count": 98,
     "metadata": {},
     "output_type": "execute_result"
    }
   ],
   "source": [
    "d5"
   ]
  },
  {
   "cell_type": "code",
   "execution_count": 100,
   "metadata": {},
   "outputs": [
    {
     "data": {
      "text/plain": [
       "dict_keys(['1', '2', 4, 'orang', 9])"
      ]
     },
     "execution_count": 100,
     "metadata": {},
     "output_type": "execute_result"
    }
   ],
   "source": [
    "d5.keys()"
   ]
  },
  {
   "cell_type": "code",
   "execution_count": null,
   "metadata": {},
   "outputs": [],
   "source": []
  },
  {
   "cell_type": "markdown",
   "metadata": {},
   "source": [
    "**items( )**"
   ]
  },
  {
   "cell_type": "code",
   "execution_count": 94,
   "metadata": {
    "collapsed": false,
    "jupyter": {
     "outputs_hidden": false
    }
   },
   "outputs": [
    {
     "data": {
      "text/plain": [
       "dict_items([('satu', 1), ('tigaempat', 34), ('coba_list', [4, 5, 'haha'])])"
      ]
     },
     "execution_count": 94,
     "metadata": {},
     "output_type": "execute_result"
    }
   ],
   "source": [
    "d0.items()"
   ]
  },
  {
   "cell_type": "markdown",
   "metadata": {},
   "source": [
    "**pop( )**"
   ]
  },
  {
   "cell_type": "code",
   "execution_count": 95,
   "metadata": {
    "collapsed": false,
    "jupyter": {
     "outputs_hidden": false
    }
   },
   "outputs": [
    {
     "name": "stdout",
     "output_type": "stream",
     "text": [
      "{'tigaempat': 34, 'coba_list': [4, 5, 'haha']}\n",
      "1\n"
     ]
    }
   ],
   "source": [
    "a2 = d0.pop('satu')\n",
    "print(d0)\n",
    "print(a2)"
   ]
  },
  {
   "cell_type": "code",
   "execution_count": null,
   "metadata": {},
   "outputs": [],
   "source": []
  },
  {
   "cell_type": "markdown",
   "metadata": {},
   "source": [
    "# Assignment 2\n",
    "\n",
    "[here](https://docs.google.com/forms/d/e/1FAIpQLSdT35axT6kn8mj2sP7xVhZbTABS6WjMRDWuQcUAOzfULaqN-A/viewform)\n",
    "\n",
    "copy and complete the script below and save it in file with extention \".py\"."
   ]
  },
  {
   "cell_type": "code",
   "execution_count": 56,
   "metadata": {},
   "outputs": [],
   "source": [
    "#######################\n",
    "##        2.1        ##\n",
    "#######################\n",
    "\n",
    "# your_email=...\n",
    "# print(\"-----\"+str(your_email)+\"-------\")\n",
    "\n",
    "## Bersihkan, urutkan Text berikut ini serta buat outputnya kecil semua:\n",
    "txt_kartini='''$1. Dengan semua ilmu yang dipelajarinya selama di ELS dan Kepandaiannya dalam berbahasa Belanda, \n",
    "tidaK menyurutKan langKah RA. Kartini untuK mendapatKan pengetahuan walaupun berada di rumah. \n",
    "Beliau mulai melaKuKan Korespondensi Kepada teman-teman dari Belanda, \n",
    "dan salah satu teman yang selalu menduKung Keinginan Kartini adalah Rosa Abendanon. Melalui surat-surat tersebut, \n",
    "beliau sharing dengan teman-teman Belanda. $6. JupytEr KEtika JupytEr Kartini JupytEr mEncapai JupytEr usia JupytEr 24 JupytEr tahun, JupytEr bEliau JupytEr dijodohkan JupytEr dEngan JupytEr sEorang JupytEr bangsawan JupytEr dan JupytEr juga JupytEr bupati JupytEr asal JupytEr \n",
    "REmbang JupytEr yang JupytEr bErnama JupytEr K.R.M. JupytEr Adipati JupytEr Ario JupytEr Singgih JupytEr Djojo JupytEr Adhiningrat. JupytEr Bupati JupytEr REmbang JupytEr yang JupytEr sEbElumnya JupytEr sudah JupytEr mEmiliki JupytEr 3 JupytEr \n",
    "orang JupytEr istri JupytEr ini JupytEr akhirnya JupytEr mEnikah JupytEr dEngan JupytEr Kartini JupytEr pada JupytEr tanggal JupytEr 12 JupytEr NovEmbEr JupytEr 1903. JupytEr SEsuai JupytEr adat JupytEr Jawa, JupytEr gElar JupytEr kEbangsawanan JupytEr \n",
    "“RadEn JupytEr AjEng” JupytEr yang JupytEr sEmula JupytEr disandang JupytEr olEh JupytEr Kartini JupytEr sEmasa JupytEr mudanya JupytEr bErubah JupytEr mEnjadi JupytEr RadEn JupytEr Ayu JupytEr sEtElah JupytEr bEliau JupytEr mEnikah. $5. DaLaM SURaT YaNG DIKIRIMKaN KEPaDa SaHaBaT-SaHaBaTNYa TERSEBUT, TIDaK JaRaNG KaRTINI \n",
    "MENGUTIP KaLIMaT-KaLIMaT YaNG PERNaH DIBaCa aTaU MENYEBUTKaN SEBUaH KaRYa. DaRI SINI BISa DILIHaT BaHWa BELIaU \n",
    "SELaLU MEMBaCa DENGaN PENUH PERHaTIaN DaN TERKaDaNG MEMBUaT BEBERaPa CaTaTaN KECIL. KaRENa KEPIaWaIaN KaRTINI DaLaM MENULIS \n",
    "MENGGUNaKaN BaHaSa BELaNDa, BEBERaPa KaLI HaSIL TULISaN BELIaU DIMUaT DaLaM SEBUaH MaJaLaH BELaNDa \n",
    "LaNGGaNaNNYa YaITU DE HOLLaNDSCHE LELIE. GaGaSaN BaRU MENGENaI PERSaMaaN HaK WaNITa PRIBUMI aTaU EMaNSIPaSI DIaNGGaP \n",
    "SEBaGaI HaL BaRU YaNG MaMPU MENGUBaH PaNDaNGaN MaSYaRaKaT LUaS. $3. Demi memuaskan rasa dahaganYa akan ilmu pengetahuan dan perkembangan zaman, \n",
    "masa pingitan dilaluinYa dengan banYak membaca. Beberapa bahan bacaan Kartini muda adalah De L0c0m0tief \n",
    "Yang merupakan surat kabar dari k0ta Semarang Yang berada di bawah asuhan Pieter Br00sh00f. Selain itu, beliau \n",
    "juga mendapatkan Leestr0mmel, Yaitu sebuah paket majalah dari t0k0 buku Yang dikirimkan kepada langganan \n",
    "mereka. DidalamnYa juga terdapat berbagai majalah tentang ilmu pengetahuan dan juga kebudaYaan Er0pa Yang \n",
    "ditulis dalam bahasa Belanda. $4.^Kartini^juga^menaruh^perhatian^terhadap^masalah^sosial^yang^terjadi^di^sekitarnya.^\n",
    "Menurut^pemikiran^Beliau,^seorang^perempuan^harus^Bisa^mendapatkan^keBeBasan, otonomi dan kesetaraan hukum. \n",
    "Surat-surat yang ditulis untuk teman-temannya seBagian Besar Berisi tentang keluhan mengenai kondisi yang terjadi \n",
    "pada wanita priBumi. Khususnya wanita Jawa yang harus terikat dengan adat keBudayaan Jawa yang menghamBat mereka \n",
    "untuk maju. Seperti adat Jawa yang pada masa itu mewajiBkan setiap gadis yang sudah Berusia 15 tahun harus \n",
    "dipingit. Hal ini memBuat para wanita Jawa tidak BeBas dalam menuntut ilmu. Selain Rosa ABendanon, teman wanita \n",
    "BerkeBangsaan Belanda lainnya yang juga mendukung setiap pemikiran yang diungkapkan oleh Kartini \n",
    "adalah Estelle Zeehandelaar. $8. Berkat Semangat juang Kartini, PYTHON CoDepada tahun 1912 berdirilah Sebuah Sekolah wanita di Semarang Yang dipelopori \n",
    "oleh YaYaSan Kartini. Merupakan Sebuah YaYaSan milik keluarga Van Deventer Yang merupakan tokoh Politik EtiS pada \n",
    "maSa kolonial Belanda. Sekolah terSebut diberi nama “Sekolah Kartini” dengan makSud untuk menghormati jaSa-jaSa \n",
    "Raden Ajeng Kartini. Sekolah ini kemudian meluaS Sampai ke SurabaYa, PYTHON CoDeMalang, PYTHON CoDeYogYakarta, PYTHON CoDeMadiun, PYTHON CoDeCirebon dan daerah \n",
    "lainnYa. Setiap tuliSan Yang ada pada buku Yang beriSi tentang pemikiran \n",
    "Kartini ini banYak menarik minat maSYarakat pada maSa itu, PYTHON CoDeterutama oleh warga Belanda.  $2.#Dari#sahabatnya#Abendan0n#inilah#Kartini#muda#sering#membaca#buku#surat#\n",
    "kabar#dan#juga#majalah#Er0pa#sehingga#mulai#tertarik#dengan#p0la#pikir#wanita#Er0pa#yang#sangat#maju.#Dalam#sejarah#\n",
    "mengatakan,#ayah#beliau#yang#merupakan#bupati#Jepara#memberikan#izin#kepada#Kartini#untuk#menjadi#se0rang#guru,#\n",
    "sesuai#dengan#cita-citanya.#Namun#dengan#catatan,#beliau#dilarang#untuk#melanjutkan#pr0ses#belajarnya#di#Batavia#\n",
    "atau#di#Belanda.#Hingga#pada#akhirnya#kedua#hal#tersebut#tidak#bisa#dicapainya,#walaupun#saat#itu#ada#beasiswa#yang#\n",
    "sudah#menanti#di#negeri#Belanda. $7. python Suami python RA. python Kartini python ternyata python sangat python memahami python keinginan python dari python istrinya. python Bupati python Rembang python ini python mendukung python dan python \n",
    "memberikan python kebebasan python Kartini python untuk python mendirikan python sekolah python wanita python yang python lokasinya python berada python di python sebelah python timur python pintu python gerbang python \n",
    "komplek python perkantoran python kabupaten python Rembang. python Kini python gedung python tersebut python dikenal python sebagai python Gedung python Pramuka. python Dari python pernikahannya python tersebut, python \n",
    "Kartini python dikaruniai python seorang python putra python bernama python Soesalit python Djojoadhiningrat python yang python lahir python pada python tanggal python 13 python September python 1904. python \n",
    "Namun python sayang, python 4 python hari python setelah python melahirkan, python yaitu python pada python tanggal python 17 python September python 1904 python beliau python menghembuskan python nafas python terakhirnya.'''\n",
    "\n",
    "\n",
    "## Hint : DI text ada 8 bagian yang belum terurut,. Di pisah terlebih dahulu dan di perhatikan setiap bagiannya"
   ]
  },
  {
   "cell_type": "code",
   "execution_count": null,
   "metadata": {},
   "outputs": [],
   "source": []
  },
  {
   "cell_type": "code",
   "execution_count": 28,
   "metadata": {},
   "outputs": [],
   "source": [
    "#######################\n",
    "##        2.2        ##\n",
    "#######################\n",
    "\n",
    "## your_email=...\n",
    "## print(\"-----\"+str(your_email)+\"-------\")\n",
    "\n",
    "\n",
    "## input. angka dengan minimum 1 digit dan maksimum 5 digit\n",
    "\n",
    "Angka_input=input(.....)\n",
    "\n",
    "## output. dictionaries dengan key dan value sebagai berikut:\n",
    "\n",
    "\n",
    "## 'max_digit' : digit paling besar di dalam angka tersebut\n",
    "## 'min_digit' : digit paling kecil di dalam angka tersebut\n",
    "## 'first_digit' : digit di index 0\n",
    "## 'max_min' : perkalian max_digit dan min_digit\n",
    "## 'max_min2' : max_min pangkat 2\n",
    "## 'max_min3' : max_min2 pangkat 3\n",
    "## 'max_min23': (max_min2 + max_min3)/(min_digit + first_digit)\n",
    "## 'avg_max_min': (max_digit + min_digit)/2\n",
    "## 'max_min4' : ((max_min23*2) + (max_min23) + 3)/3\n",
    "## 'max_min5' : ((max_min4**3) - (max_min4**2) + (avg_max_min)) ** (1/first_digit)\n",
    "## 'max_min6' : ((max_min5 + max_min4)/2) + first_digit\n",
    "## 'max_min7' : (max_min6//avg_max_min)+max_min5\n",
    "## 'max_min8' : (((max_min7) + (max_min6)) / max_min6) ** first_digit\n",
    "## 'max_min9' : (max_min8 - max_min6 + max_min5) / first_digit"
   ]
  },
  {
   "cell_type": "code",
   "execution_count": null,
   "metadata": {},
   "outputs": [],
   "source": []
  }
 ],
 "metadata": {
  "kernelspec": {
   "display_name": "p37",
   "language": "python",
   "name": "p37"
  },
  "language_info": {
   "codemirror_mode": {
    "name": "ipython",
    "version": 3
   },
   "file_extension": ".py",
   "mimetype": "text/x-python",
   "name": "python",
   "nbconvert_exporter": "python",
   "pygments_lexer": "ipython3",
   "version": "3.7.9"
  }
 },
 "nbformat": 4,
 "nbformat_minor": 4
}
