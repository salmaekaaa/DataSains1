{
 "cells": [
  {
   "cell_type": "markdown",
   "metadata": {},
   "source": [
    "# Control Flow Statements"
   ]
  },
  {
   "cell_type": "markdown",
   "metadata": {},
   "source": [
    "## If"
   ]
  },
  {
   "cell_type": "markdown",
   "metadata": {},
   "source": [
    "if some_condition:\n",
    "    \n",
    "    algorithm"
   ]
  },
  {
   "cell_type": "code",
   "execution_count": 3,
   "metadata": {
    "collapsed": false,
    "jupyter": {
     "outputs_hidden": false
    }
   },
   "outputs": [
    {
     "name": "stdout",
     "output_type": "stream",
     "text": [
      "Hello\n"
     ]
    }
   ],
   "source": [
    "x = 10\n",
    "if x <= 10:\n",
    "    print(\"Hello\")"
   ]
  },
  {
   "cell_type": "markdown",
   "metadata": {},
   "source": [
    "## If-else"
   ]
  },
  {
   "cell_type": "markdown",
   "metadata": {},
   "source": [
    "if some_condition:\n",
    "    \n",
    "    algorithm\n",
    "    \n",
    "else:\n",
    "    \n",
    "    algorithm"
   ]
  },
  {
   "cell_type": "code",
   "execution_count": 4,
   "metadata": {
    "collapsed": false,
    "jupyter": {
     "outputs_hidden": false
    }
   },
   "outputs": [
    {
     "name": "stdout",
     "output_type": "stream",
     "text": [
      "hola\n"
     ]
    }
   ],
   "source": [
    "x = 15\n",
    "if x <= 10:\n",
    "    print(\"halo\")\n",
    "else:\n",
    "    print(\"hola\")"
   ]
  },
  {
   "cell_type": "markdown",
   "metadata": {},
   "source": [
    "## if-elif"
   ]
  },
  {
   "cell_type": "markdown",
   "metadata": {},
   "source": [
    "if some_condition:\n",
    "    \n",
    "    algorithm\n",
    "\n",
    "elif some_condition:\n",
    "    \n",
    "    algorithm\n",
    "\n",
    "else:\n",
    "    \n",
    "    algorithm"
   ]
  },
  {
   "cell_type": "code",
   "execution_count": 5,
   "metadata": {
    "collapsed": false,
    "jupyter": {
     "outputs_hidden": false
    }
   },
   "outputs": [
    {
     "name": "stdout",
     "output_type": "stream",
     "text": [
      "x>y\n"
     ]
    }
   ],
   "source": [
    "x = 90\n",
    "y = 43\n",
    "if x > y:\n",
    "    print(\"x>y\")\n",
    "elif x < y:\n",
    "    print(\"x<y\")\n",
    "else:\n",
    "    print(\"x=y\")"
   ]
  },
  {
   "cell_type": "markdown",
   "metadata": {},
   "source": [
    "if dalam if"
   ]
  },
  {
   "cell_type": "code",
   "execution_count": 11,
   "metadata": {
    "collapsed": false,
    "jupyter": {
     "outputs_hidden": false
    }
   },
   "outputs": [
    {
     "ename": "IndentationError",
     "evalue": "unindent does not match any outer indentation level (<tokenize>, line 7)",
     "output_type": "error",
     "traceback": [
      "\u001b[0;36m  File \u001b[0;32m\"<tokenize>\"\u001b[0;36m, line \u001b[0;32m7\u001b[0m\n\u001b[0;31m    if x==10:\u001b[0m\n\u001b[0m    ^\u001b[0m\n\u001b[0;31mIndentationError\u001b[0m\u001b[0;31m:\u001b[0m unindent does not match any outer indentation level\n"
     ]
    }
   ],
   "source": [
    "x = 15\n",
    "y = 20\n",
    "if x > y:\n",
    "    print(\"x>y\")\n",
    "elif x < y:\n",
    "    print(\"x<y\")\n",
    "    if x==10:\n",
    "        print(\"x=10\")\n",
    "    else:\n",
    "        print(\"invalid\")\n",
    "else:\n",
    "    print(\"x=y\")"
   ]
  },
  {
   "cell_type": "code",
   "execution_count": null,
   "metadata": {},
   "outputs": [],
   "source": []
  },
  {
   "cell_type": "code",
   "execution_count": null,
   "metadata": {},
   "outputs": [],
   "source": []
  },
  {
   "cell_type": "markdown",
   "metadata": {},
   "source": [
    "## Quiz 5 \n",
    "\n",
    "[here](https://docs.google.com/forms/d/e/1FAIpQLScP3hY8bklUflDU58FEjtBg6PIj0y5rYTvlZznawIFd4DleDw/viewform)"
   ]
  },
  {
   "cell_type": "markdown",
   "metadata": {},
   "source": [
    "copy and complete the script below and save it in file with extention \".py\"."
   ]
  },
  {
   "cell_type": "markdown",
   "metadata": {},
   "source": [
    "Cek Input dan Error (script commit)"
   ]
  },
  {
   "cell_type": "code",
   "execution_count": 3,
   "metadata": {},
   "outputs": [],
   "source": [
    "#######################\n",
    "## Complete The Codes##\n",
    "#######################\n",
    "\n",
    "your_email=...\n",
    "print(\"-----\"+str(your_email)+\"-------\")\n",
    "\n",
    "## Input the data\n",
    "price = input('put the price : ')\n",
    "items = ...('put the number of items : ')\n",
    "percentage = ... ## --> user input\n",
    "\n",
    "price = float(price)\n",
    "items = int(items)\n",
    "percentage = float(percentage) \n",
    "\n",
    "## check if price between 10000 and 25000 or not, percentage between 25 and 45, items > 0, then Process\n",
    "if ... :\n",
    "## Process\n",
    "## Rule : (Basic Price + (price times items)) substract with the discount (%), basic price = 25000\n",
    "\n",
    "    total_price = ...\n",
    "    \n",
    "    ## output (2 digits after comma)\n",
    "    print('Total Price :'...)\n",
    "    \n",
    "elif :\n",
    "## print error. The Error message is depend on the mistake with this order :\n",
    "## if price less than 10000 --> ERROR 1.\n",
    "## if price more than 25000 --> ERROR 2.\n",
    "## if percentage less than 25 --> ERROR 3.\n",
    "## if percentage more than 45 --> ERROR 4.\n",
    "## if items <= 0 --> ERROR 5.\n",
    "    print(..)\n",
    "\n",
    "    \n",
    "## scoring\n",
    "print('-----------------------------------------')\n",
    "\n",
    "## Hint : \"if\" can be more than 1 times"
   ]
  },
  {
   "cell_type": "code",
   "execution_count": null,
   "metadata": {},
   "outputs": [],
   "source": []
  },
  {
   "cell_type": "markdown",
   "metadata": {},
   "source": [
    "## Loops"
   ]
  },
  {
   "cell_type": "markdown",
   "metadata": {},
   "source": [
    "### For"
   ]
  },
  {
   "cell_type": "markdown",
   "metadata": {},
   "source": [
    "for variable in something:\n",
    "    \n",
    "    algorithm"
   ]
  },
  {
   "cell_type": "code",
   "execution_count": 19,
   "metadata": {
    "collapsed": false,
    "jupyter": {
     "outputs_hidden": false
    }
   },
   "outputs": [
    {
     "name": "stdout",
     "output_type": "stream",
     "text": [
      "dalam loop\n",
      "dalam loop\n",
      "dalam loop\n",
      "dalam loop\n",
      "dalam loop\n",
      "luar loop\n"
     ]
    }
   ],
   "source": [
    "for i in range(5):\n",
    "    print('dalam loop')\n",
    "print('luar loop')"
   ]
  },
  {
   "cell_type": "markdown",
   "metadata": {},
   "source": [
    "loop dengan list"
   ]
  },
  {
   "cell_type": "code",
   "execution_count": 16,
   "metadata": {
    "collapsed": false,
    "jupyter": {
     "outputs_hidden": false
    }
   },
   "outputs": [
    {
     "name": "stdout",
     "output_type": "stream",
     "text": [
      "3\n",
      "[1, 2, 3]\n",
      "4\n",
      "[4, 5, 6, 9]\n",
      "3\n",
      "[7, 8, 9]\n",
      "11\n",
      "string saya\n"
     ]
    }
   ],
   "source": [
    "list_of_lists = [[1, 2, 3], [4, 5, 6, 9], [7, 8, 9], 'string saya']\n",
    "for list1 in list_of_lists:\n",
    "    print(len(list1))\n",
    "    print(list1)"
   ]
  },
  {
   "cell_type": "markdown",
   "metadata": {},
   "source": [
    "loop dalam loop"
   ]
  },
  {
   "cell_type": "code",
   "execution_count": 24,
   "metadata": {
    "collapsed": false,
    "jupyter": {
     "outputs_hidden": false
    }
   },
   "outputs": [
    {
     "name": "stdout",
     "output_type": "stream",
     "text": [
      "process ke- 0\n",
      "dalam loop 1\n",
      "[1, 2, 3]\n",
      "dalam loop 2\n",
      "dalam loop 2.2\n",
      "dalam loop 2\n",
      "dalam loop 2.2\n",
      "dalam loop 2\n",
      "dalam loop 2.2\n",
      "dalam loop 1.2 \n",
      "\n",
      "process ke- 1\n",
      "dalam loop 1\n",
      "[4, 5, 6]\n",
      "dalam loop 2\n",
      "dalam loop 2.2\n",
      "dalam loop 2\n",
      "dalam loop 2.2\n",
      "dalam loop 2\n",
      "dalam loop 2.2\n",
      "dalam loop 1.2 \n",
      "\n",
      "process ke- 2\n",
      "dalam loop 1\n",
      "[7, 8, 9]\n",
      "dalam loop 2\n",
      "dalam loop 2.2\n",
      "dalam loop 2\n",
      "dalam loop 2.2\n",
      "dalam loop 2\n",
      "dalam loop 2.2\n",
      "dalam loop 1.2 \n",
      "\n"
     ]
    }
   ],
   "source": [
    "list_of_lists = [[1, 2, 3], [4, 5, 6], [7, 8, 9]]\n",
    "k=0\n",
    "for list1 in list_of_lists:\n",
    "    print('process ke-',k)\n",
    "    print('dalam loop 1')\n",
    "    print(list1)\n",
    "    for x in list1:\n",
    "        print('dalam loop 2')\n",
    "        print('dalam loop 2.2')\n",
    "    print('dalam loop 1.2 \\n')\n",
    "    k = k+1"
   ]
  },
  {
   "cell_type": "markdown",
   "metadata": {},
   "source": [
    "### While\n",
    "\n",
    "loop sampai waktu yang tidak ditentukan"
   ]
  },
  {
   "cell_type": "markdown",
   "metadata": {},
   "source": [
    "while some_condition:\n",
    "    \n",
    "    algorithm"
   ]
  },
  {
   "cell_type": "code",
   "execution_count": 2,
   "metadata": {},
   "outputs": [],
   "source": [
    "import random"
   ]
  },
  {
   "cell_type": "code",
   "execution_count": 3,
   "metadata": {},
   "outputs": [
    {
     "data": {
      "text/plain": [
       "2"
      ]
     },
     "execution_count": 3,
     "metadata": {},
     "output_type": "execute_result"
    }
   ],
   "source": [
    "random.randint(0,10)\n"
   ]
  },
  {
   "cell_type": "code",
   "execution_count": 25,
   "metadata": {
    "collapsed": false,
    "jupyter": {
     "outputs_hidden": false
    }
   },
   "outputs": [
    {
     "name": "stdout",
     "output_type": "stream",
     "text": [
      "1\n",
      "4\n",
      "Bye\n"
     ]
    }
   ],
   "source": [
    "i = 1\n",
    "while i < 3:\n",
    "    print(i ** 2)\n",
    "    i = i+1\n",
    "print('Bye')"
   ]
  },
  {
   "cell_type": "code",
   "execution_count": null,
   "metadata": {},
   "outputs": [],
   "source": []
  },
  {
   "cell_type": "code",
   "execution_count": 10,
   "metadata": {},
   "outputs": [
    {
     "name": "stdout",
     "output_type": "stream",
     "text": [
      "1\n",
      "9\n",
      "14\n",
      "15\n",
      "15\n",
      "18\n",
      "25\n",
      "25\n",
      "Bye\n"
     ]
    }
   ],
   "source": [
    "i = 1\n",
    "while i < 30:\n",
    "    print(i)\n",
    "    i = i+random.randint(0,10)\n",
    "print('Bye')"
   ]
  },
  {
   "cell_type": "code",
   "execution_count": null,
   "metadata": {},
   "outputs": [],
   "source": []
  },
  {
   "cell_type": "markdown",
   "metadata": {},
   "source": [
    "## Break"
   ]
  },
  {
   "cell_type": "markdown",
   "metadata": {},
   "source": [
    "memberhentikan loop ditengah2"
   ]
  },
  {
   "cell_type": "code",
   "execution_count": 9,
   "metadata": {
    "collapsed": false,
    "jupyter": {
     "outputs_hidden": false
    }
   },
   "outputs": [
    {
     "name": "stdout",
     "output_type": "stream",
     "text": [
      "0\n",
      "1\n",
      "2\n",
      "3\n",
      "4\n",
      "5\n",
      "6\n",
      "7\n",
      "8\n",
      "9\n",
      "10\n"
     ]
    }
   ],
   "source": [
    "for i in range(100):\n",
    "    print(i)\n",
    "    if i>=10:\n",
    "        break"
   ]
  },
  {
   "cell_type": "code",
   "execution_count": null,
   "metadata": {},
   "outputs": [],
   "source": []
  },
  {
   "cell_type": "code",
   "execution_count": null,
   "metadata": {},
   "outputs": [],
   "source": []
  },
  {
   "cell_type": "markdown",
   "metadata": {},
   "source": [
    "## Continue"
   ]
  },
  {
   "cell_type": "markdown",
   "metadata": {},
   "source": [
    "melanjutkan loop"
   ]
  },
  {
   "cell_type": "code",
   "execution_count": 3,
   "metadata": {
    "collapsed": false,
    "jupyter": {
     "outputs_hidden": false
    }
   },
   "outputs": [
    {
     "name": "stdout",
     "output_type": "stream",
     "text": [
      "0\n",
      "1\n",
      "2\n",
      "3\n",
      "4\n",
      "The end.\n",
      "The end.\n",
      "The end.\n",
      "The end.\n",
      "The end.\n"
     ]
    }
   ],
   "source": [
    "for i in range(10):\n",
    "    if i>4:\n",
    "        print(\"The end.\")\n",
    "        continue\n",
    "    elif i<7:\n",
    "        print(i)"
   ]
  },
  {
   "cell_type": "code",
   "execution_count": null,
   "metadata": {},
   "outputs": [],
   "source": []
  },
  {
   "cell_type": "code",
   "execution_count": null,
   "metadata": {},
   "outputs": [],
   "source": []
  },
  {
   "cell_type": "markdown",
   "metadata": {},
   "source": [
    "## List Comprehensions"
   ]
  },
  {
   "cell_type": "markdown",
   "metadata": {},
   "source": [
    "Misalkan ..."
   ]
  },
  {
   "cell_type": "code",
   "execution_count": 5,
   "metadata": {
    "collapsed": false,
    "jupyter": {
     "outputs_hidden": false
    }
   },
   "outputs": [
    {
     "name": "stdout",
     "output_type": "stream",
     "text": [
      "[22, 44, 66, 88, 110, 132, 154, 176, 198, 220, 242, 264, 286, 308, 330, 352, 374, 396, 418]\n"
     ]
    }
   ],
   "source": [
    "res = []\n",
    "for i in range(1,20):\n",
    "    x = 22*i\n",
    "    res.append(x)\n",
    "print(res)"
   ]
  },
  {
   "cell_type": "markdown",
   "metadata": {},
   "source": [
    "didalam list bisa dilakukan loop seperti berikut"
   ]
  },
  {
   "cell_type": "markdown",
   "metadata": {},
   "source": [
    "[fungsinya for i in range(N)]"
   ]
  },
  {
   "cell_type": "code",
   "execution_count": 14,
   "metadata": {
    "collapsed": false,
    "jupyter": {
     "outputs_hidden": false
    }
   },
   "outputs": [
    {
     "data": {
      "text/plain": [
       "[0, 3, 6, 9, 12, 15, 18, 21, 24, 27, 30, 33, 36, 39, 42, 45, 48, 51, 54, 57]"
      ]
     },
     "execution_count": 14,
     "metadata": {},
     "output_type": "execute_result"
    }
   ],
   "source": [
    "[3*x for x in range(20)]"
   ]
  },
  {
   "cell_type": "markdown",
   "metadata": {},
   "source": [
    "That's it!. Only remember to enclose it in square brackets"
   ]
  },
  {
   "cell_type": "markdown",
   "metadata": {},
   "source": [
    "Bisa digabung dengan if juga"
   ]
  },
  {
   "cell_type": "code",
   "execution_count": 17,
   "metadata": {
    "collapsed": false,
    "jupyter": {
     "outputs_hidden": false
    }
   },
   "outputs": [
    {
     "data": {
      "text/plain": [
       "[0, 2, 6, 10, 12, 14, 16, 18, 20, 22, 24, 26, 28, 30, 32, 34, 36, 38]"
      ]
     },
     "execution_count": 17,
     "metadata": {},
     "output_type": "execute_result"
    }
   ],
   "source": [
    "[2*x for x in range(20) if x not in [2,4]]"
   ]
  },
  {
   "cell_type": "markdown",
   "metadata": {},
   "source": [
    "Let me add one more loop to make you understand better, "
   ]
  },
  {
   "cell_type": "code",
   "execution_count": 14,
   "metadata": {
    "collapsed": false,
    "jupyter": {
     "outputs_hidden": false
    }
   },
   "outputs": [
    {
     "data": {
      "text/plain": [
       "[27, 54, 81, 108, 135, 162, 189, 216, 243, 270]"
      ]
     },
     "execution_count": 14,
     "metadata": {},
     "output_type": "execute_result"
    }
   ],
   "source": [
    "[27*z for i in range(50) if i==27 for z in range(1,11)]"
   ]
  },
  {
   "cell_type": "code",
   "execution_count": 19,
   "metadata": {},
   "outputs": [
    {
     "data": {
      "text/plain": [
       "10"
      ]
     },
     "execution_count": 19,
     "metadata": {},
     "output_type": "execute_result"
    }
   ],
   "source": [
    "len([i/10 for i in range(10)])"
   ]
  },
  {
   "cell_type": "code",
   "execution_count": null,
   "metadata": {},
   "outputs": [],
   "source": []
  },
  {
   "cell_type": "code",
   "execution_count": null,
   "metadata": {},
   "outputs": [],
   "source": []
  },
  {
   "cell_type": "markdown",
   "metadata": {},
   "source": [
    "## Quiz 6.1\n",
    "\n",
    "[here](https://docs.google.com/forms/d/e/1FAIpQLScHRpYa_U1z25WJfmGLOHABwbV3DPl285uyVG6mAmoovGlhvw/viewform)"
   ]
  },
  {
   "cell_type": "markdown",
   "metadata": {},
   "source": [
    "1. List Ganjil tanpa \"If\" (5 menit) --> input N, output [1,3,5, ... , N]\n",
    "2. generate list sepanjang N dengan pattern [1+(1/1),1+(1/2),1+(1/3),1+(1/4), ...] (5 menit) tapi tidak boleh lebih besar dari 3*(1+(1/N))..\n",
    "3. Pattern (15 menit) --> input N\n",
    "\n",
    "\n",
    "    1\n",
    "    \n",
    "    1 2\n",
    "    \n",
    "    1 2 3\n",
    "    \n",
    "    1 2 3 4\n",
    "    \n",
    "    .\n",
    "    .\n",
    "    .\n",
    "    \n",
    "    1 2 3 . . . N\n",
    "    \n",
    "    dst\n"
   ]
  },
  {
   "cell_type": "code",
   "execution_count": null,
   "metadata": {},
   "outputs": [],
   "source": []
  },
  {
   "cell_type": "code",
   "execution_count": 2,
   "metadata": {},
   "outputs": [],
   "source": [
    "## Commit it in one script (.py)\n",
    "\n",
    "your_email=...\n",
    "print(\"-----\"+str(your_email)+\"-------\")\n",
    "\n",
    "## Nomor 1\n",
    "print('----1----')\n",
    "input_1 = int(input('enter N :'))\n",
    "## Process\n",
    "output_1 = ..\n",
    "print('answer 1 :', output_1)\n",
    "\n",
    "## Nomor 2\n",
    "print('----2----')\n",
    "input_2 = int(input('enter N :')\n",
    "## Process\n",
    "output_2 = ..\n",
    "print('answer 2 :', output_2)\n",
    "\n",
    "## Nomor 3\n",
    "\n",
    "print('----3---')\n",
    "input_3 = int(input('e... \n",
    "## Process\n",
    "print('answer 3 (below):')\n",
    "for ... :\n",
    "    print(...)"
   ]
  },
  {
   "cell_type": "code",
   "execution_count": null,
   "metadata": {},
   "outputs": [],
   "source": []
  },
  {
   "cell_type": "code",
   "execution_count": null,
   "metadata": {},
   "outputs": [],
   "source": []
  },
  {
   "cell_type": "markdown",
   "metadata": {},
   "source": [
    "## Quiz 6.2\n",
    "[here](https://docs.google.com/forms/d/e/1FAIpQLSdK3w8eSDizotXrx60bX-xiuOe8Rhx7TECwLBiKKNHvawLXvA/viewform)"
   ]
  },
  {
   "cell_type": "markdown",
   "metadata": {},
   "source": [
    "Buka file (Quiz_6.txt)\n",
    "1. input 2 angka (x,y), secara berurutan ambil angka x atau y dalam file dari entry pertama lalu berhenti saat banyaknya x > banyaknya y (15 menit)\n",
    "2. kapan naik kapan turun (time series) dihari ke berapa stock mengalami turun X kali tidak harus berturut-turut (input X) - real case example (20 menit)\n",
    "\n",
    "\n",
    "Example :\n",
    "1. [1,1,5,4,2,2,1,4,2,2,1,1,2,2,2,4,2,2,1,4,5,2,1,5,5,5,5] \n",
    "        jika x = 1 dan y = 3 maka output [1]\n",
    "        jika x = 3 dan y = 1 maka output [1,1,1,1] --> keluarkan semua 1\n",
    "        jika x = 1 dan y = 2 maka output [1]\n",
    "        jika x = 2 dan y = 1 maka output [1,1,2,2,1,2,2]\n",
    "        ingat, input x dan y hanya diantara 1 dan 9 (integer)\n",
    "        \n",
    "        \n",
    "    \n",
    "2. [1,2,3,1,2,3,1,2,3,1,2,3,1,2,3]\n",
    "        sudah turun 1 kali di hari ke 4\n",
    "        sudah turun 2 kali di hari ke 8\n",
    "        sudah turun 3 kali di hari ke 12\n",
    "        ingat, input X >= 1 dan integer"
   ]
  },
  {
   "cell_type": "code",
   "execution_count": null,
   "metadata": {},
   "outputs": [],
   "source": []
  },
  {
   "cell_type": "code",
   "execution_count": 31,
   "metadata": {},
   "outputs": [
    {
     "name": "stdout",
     "output_type": "stream",
     "text": [
      "-----Ellipsis-------\n",
      "_____ Task 6.2-1 _____\n"
     ]
    }
   ],
   "source": [
    "## 6.2 - 1\n",
    "your_email=...\n",
    "print(\"-----\"+str(your_email)+\"-------\")\n",
    "print(\"_____ Task 6.2-1 _____\")\n",
    "\n",
    "## Process\n",
    "## Hint : ubah dulu stringnya menjadi list of angka"
   ]
  },
  {
   "cell_type": "code",
   "execution_count": 32,
   "metadata": {},
   "outputs": [
    {
     "name": "stdout",
     "output_type": "stream",
     "text": [
      "-----Ellipsis-------\n",
      "_____ Task 6.2-2 _____\n"
     ]
    }
   ],
   "source": [
    "## 6.2 - 2\n",
    "your_email=...\n",
    "print(\"-----\"+str(your_email)+\"-------\")\n",
    "print(\"_____ Task 6.2-2 _____\")\n",
    "\n",
    "## Process\n",
    "## Hint : ubah dulu stringnya menjadi list of angka"
   ]
  },
  {
   "cell_type": "code",
   "execution_count": null,
   "metadata": {},
   "outputs": [],
   "source": []
  },
  {
   "cell_type": "markdown",
   "metadata": {},
   "source": [
    "## Assignment 3"
   ]
  },
  {
   "cell_type": "markdown",
   "metadata": {},
   "source": [
    "rata2-nya.. di ujian keberapa pertama kali dapet score kurang dari 8 (tapi bukan 0).. ??\n",
    "\n",
    "[here](https://docs.google.com/forms/d/e/1FAIpQLSfKXEuOsk3Nu_wELR5lRaThhXxVrX4LYV6cDCHTp8CcPkkBwQ/viewform)"
   ]
  },
  {
   "cell_type": "code",
   "execution_count": 28,
   "metadata": {},
   "outputs": [],
   "source": [
    "# B=[]\n",
    "# for i in range(5):\n",
    "#     kk = random.randint(1,12)\n",
    "#     s1 = [random.choice([0,8,9,10]) for i in range(kk)]\n",
    "#     s2 = [random.randint(3,9) for i in range(12-kk)]\n",
    "#     B.append(s1+s2)"
   ]
  },
  {
   "cell_type": "code",
   "execution_count": null,
   "metadata": {},
   "outputs": [],
   "source": []
  },
  {
   "cell_type": "code",
   "execution_count": 20,
   "metadata": {},
   "outputs": [],
   "source": [
    "A = [[8, 9, 9, 8, 9, 5, 4, 6, 4, 4, 3, 7],\n",
    " [8, 10, 8, 0, 9, 0, 0, 8, 6, 3, 4, 6],\n",
    " [0, 9, 10, 8, 10, 7, 3, 5, 4, 3, 3, 6],\n",
    " [9, 9, 8, 0, 0, 6, 4, 4, 4, 7, 9, 3],\n",
    " [8, 10, 9, 0, 9, 9, 9, 0, 3, 8, 9, 6],\n",
    " [10, 10, 0, 8, 0, 8, 3, 6, 3, 6, 5, 4],\n",
    " [9, 8, 8, 0, 0, 7, 9, 6, 6, 8, 3, 4],\n",
    " [0, 8, 0, 0, 9, 9, 6, 6, 8, 3, 5, 6],\n",
    " [0, 9, 10, 8, 10, 8, 6, 7, 6, 8, 3, 4],\n",
    " [10, 10, 8, 0, 10, 9, 9, 6, 8, 3, 4, 6],\n",
    " [9, 8, 0, 9, 0, 9, 9, 8, 7, 5, 7, 5],\n",
    " [8, 8, 9, 8, 0, 0, 0, 9, 9, 4, 7, 9],\n",
    " [0, 10, 10, 8, 0, 0, 7, 5, 7, 5, 7, 6],\n",
    " [8, 10, 0, 9, 0, 6, 8, 4, 5, 7, 5, 3],\n",
    " [9, 9, 10, 8, 9, 4, 8, 9, 6, 3, 4, 5],\n",
    " [10, 10, 10, 8, 10, 9, 9, 9, 6, 5, 6, 9],\n",
    " [9, 10, 10, 9, 9, 10, 7, 3, 4, 7, 6, 9],\n",
    " [10, 9, 9, 0, 0, 9, 4, 4, 4, 5, 8, 6],\n",
    " [0, 8, 9, 0, 0, 9, 3, 3, 5, 3, 9, 8],\n",
    " [0, 8, 0, 8, 10, 9, 9, 5, 9, 5, 7, 8],\n",
    " [10, 0, 0, 0, 0, 9, 8, 3, 8, 7, 4, 9],\n",
    " [10, 10, 10, 10, 9, 10, 8, 4, 6, 9, 8, 5],\n",
    " [8, 9, 10, 9, 8, 10, 9, 3, 3, 8, 4, 3],\n",
    " [0, 10, 10, 0, 0, 6, 8, 3, 7, 5, 9, 3],\n",
    " [10, 0, 10, 9, 9, 4, 9, 6, 3, 8, 5, 3],\n",
    " [0, 0, 0, 9, 10, 0, 6, 9, 7, 5, 4, 7],\n",
    " [8, 0, 0, 0, 9, 0, 8, 9, 9, 4, 4, 5],\n",
    " [10, 10, 9, 0, 0, 9, 8, 9, 3, 6, 7, 4],\n",
    " [0, 0, 10, 10, 0, 10, 3, 4, 3, 9, 8, 3],\n",
    " [8, 9, 8, 10, 8, 3, 7, 5, 6, 8, 4, 8],\n",
    " [0, 0, 8, 8, 0, 7, 6, 8, 7, 4, 8, 7],\n",
    " [8, 9, 10, 8, 10, 0, 0, 8, 8, 5, 6, 3],\n",
    " [10, 8, 9, 10, 9, 8, 9, 5, 8, 8, 7, 8],\n",
    " [9, 0, 10, 0, 0, 10, 0, 10, 3, 9, 9, 4],\n",
    " [10, 9, 9, 0, 9, 9, 9, 0, 5, 5, 7, 8],\n",
    " [10, 0, 0, 9, 9, 9, 8, 0, 6, 7, 3, 3],\n",
    " [9, 8, 8, 9, 0, 0, 5, 3, 9, 5, 4, 7],\n",
    " [9, 10, 10, 10, 8, 0, 6, 5, 4, 7, 5, 7],\n",
    " [8, 10, 8, 10, 10, 8, 8, 9, 7, 5, 5, 5],\n",
    " [10, 9, 8, 0, 9, 9, 4, 3, 6, 9, 3, 3],\n",
    " [10, 8, 8, 0, 0, 9, 3, 5, 9, 4, 9, 6],\n",
    " [0, 0, 8, 0, 9, 0, 10, 8, 7, 8, 4, 6],\n",
    " [8, 0, 9, 0, 0, 8, 8, 8, 4, 9, 8, 5],\n",
    " [8, 0, 9, 8, 10, 6, 9, 9, 6, 4, 9, 3],\n",
    " [0, 10, 0, 8, 10, 8, 4, 8, 3, 5, 9, 7],\n",
    " [10, 8, 10, 10, 10, 10, 6, 7, 7, 6, 9, 9],\n",
    " [9, 8, 0, 8, 8, 10, 8, 9, 7, 8, 5, 8],\n",
    " [9, 10, 10, 9, 8, 10, 10, 8, 7, 8, 6, 6],\n",
    " [10, 10, 10, 9, 8, 9, 8, 9, 6, 7, 5, 4],\n",
    " [10, 0, 10, 0, 10, 9, 7, 9, 5, 9, 3, 4],\n",
    " [0, 0, 9, 8, 9, 8, 10, 0, 7, 4, 6, 9],\n",
    " [10, 9, 10, 10, 9, 8, 7, 7, 9, 8, 6, 3],\n",
    " [0, 10, 9, 0, 9, 8, 5, 4, 9, 6, 8, 3],\n",
    " [8, 10, 0, 10, 8, 9, 5, 5, 3, 8, 8, 9],\n",
    " [0, 8, 9, 0, 0, 7, 8, 4, 8, 9, 8, 6],\n",
    " [10, 9, 0, 8, 10, 8, 0, 8, 3, 4, 4, 7],\n",
    " [0, 0, 0, 10, 10, 3, 3, 3, 6, 6, 5, 6],\n",
    " [0, 9, 8, 8, 8, 10, 10, 9, 5, 9, 8, 6],\n",
    " [10, 10, 10, 9, 10, 8, 7, 7, 7, 3, 8, 4],\n",
    " [8, 0, 0, 0, 10, 0, 0, 8, 5, 3, 6, 7],\n",
    " [9, 8, 8, 9, 8, 5, 9, 6, 3, 8, 3, 7],\n",
    " [8, 10, 9, 9, 10, 9, 9, 6, 7, 8, 6, 8],\n",
    " [10, 9, 10, 0, 0, 0, 9, 3, 9, 5, 8, 7],\n",
    " [9, 8, 10, 9, 0, 9, 8, 9, 8, 3, 3, 5],\n",
    " [0, 10, 10, 9, 9, 10, 5, 3, 7, 7, 3, 7],\n",
    " [8, 9, 9, 8, 9, 0, 10, 9, 7, 7, 4, 3],\n",
    " [0, 10, 8, 8, 0, 9, 6, 7, 3, 8, 6, 3],\n",
    " [9, 8, 8, 0, 9, 10, 0, 0, 5, 7, 3, 5],\n",
    " [10, 10, 10, 0, 10, 3, 4, 3, 4, 3, 6, 6],\n",
    " [0, 10, 9, 10, 8, 9, 8, 10, 8, 4, 7, 7],\n",
    " [8, 0, 9, 8, 8, 9, 10, 0, 9, 8, 6, 7],\n",
    " [10, 10, 0, 8, 8, 8, 3, 4, 6, 7, 6, 4],\n",
    " [0, 10, 0, 8, 10, 10, 9, 8, 3, 4, 6, 4],\n",
    " [10, 0, 8, 0, 0, 7, 3, 5, 9, 9, 9, 7],\n",
    " [10, 9, 9, 8, 8, 10, 8, 10, 3, 7, 5, 7],\n",
    " [10, 8, 10, 8, 10, 9, 10, 8, 3, 5, 8, 6],\n",
    " [0, 9, 10, 0, 9, 3, 7, 9, 6, 7, 9, 7],\n",
    " [8, 0, 0, 8, 0, 3, 5, 5, 9, 3, 3, 8],\n",
    " [8, 9, 10, 8, 9, 3, 9, 7, 3, 6, 8, 8],\n",
    " [0, 0, 9, 9, 0, 0, 9, 3, 5, 8, 4, 5],\n",
    " [0, 8, 9, 0, 10, 3, 7, 8, 3, 5, 4, 5],\n",
    " [0, 10, 0, 10, 9, 10, 3, 9, 6, 7, 8, 7],\n",
    " [9, 10, 8, 8, 0, 9, 0, 0, 3, 9, 4, 4],\n",
    " [8, 9, 8, 9, 8, 10, 9, 3, 3, 3, 5, 5],\n",
    " [0, 8, 9, 10, 8, 10, 0, 8, 9, 7, 8, 5],\n",
    " [9, 0, 9, 9, 0, 8, 3, 4, 3, 8, 6, 9],\n",
    " [10, 9, 10, 9, 9, 9, 8, 0, 9, 3, 5, 8],\n",
    " [9, 8, 10, 10, 0, 8, 5, 6, 6, 6, 3, 8],\n",
    " [10, 9, 10, 10, 9, 9, 8, 9, 4, 4, 6, 7],\n",
    " [0, 0, 9, 0, 9, 8, 5, 5, 7, 8, 5, 3],\n",
    " [8, 9, 10, 0, 9, 9, 8, 7, 7, 8, 4, 9],\n",
    " [9, 9, 10, 8, 9, 8, 7, 5, 3, 7, 9, 6],\n",
    " [0, 10, 0, 10, 0, 10, 9, 10, 4, 3, 8, 4],\n",
    " [8, 8, 8, 9, 8, 9, 6, 5, 8, 6, 5, 5],\n",
    " [9, 9, 0, 10, 9, 9, 4, 4, 3, 7, 5, 4],\n",
    " [8, 0, 0, 10, 9, 7, 5, 8, 9, 6, 5, 3],\n",
    " [9, 8, 9, 10, 8, 10, 10, 10, 5, 9, 4, 5],\n",
    " [9, 8, 9, 9, 0, 7, 9, 5, 3, 7, 8, 4],\n",
    " [0, 10, 0, 0, 0, 9, 8, 3, 4, 3, 5, 3],\n",
    " [8, 10, 0, 10, 10, 10, 8, 9, 3, 5, 3, 4],\n",
    " [9, 0, 9, 10, 8, 4, 7, 8, 3, 6, 9, 4],\n",
    " [8, 10, 10, 0, 8, 9, 9, 9, 6, 3, 3, 4],\n",
    " [8, 8, 10, 8, 10, 0, 3, 8, 6, 4, 8, 4],\n",
    " [8, 10, 9, 8, 9, 9, 6, 5, 4, 5, 4, 6],\n",
    " [9, 0, 8, 9, 0, 9, 9, 0, 6, 9, 5, 3],\n",
    " [10, 8, 0, 8, 10, 0, 8, 0, 4, 9, 3, 7],\n",
    " [8, 9, 0, 9, 0, 6, 3, 4, 7, 6, 3, 3],\n",
    " [0, 0, 9, 9, 10, 0, 9, 8, 9, 6, 6, 3],\n",
    " [10, 8, 8, 8, 9, 0, 8, 3, 6, 9, 4, 3],\n",
    " [0, 8, 10, 9, 10, 8, 9, 0, 4, 9, 3, 5],\n",
    " [8, 8, 0, 0, 10, 10, 8, 9, 5, 9, 7, 4],\n",
    " [0, 10, 10, 9, 9, 8, 7, 3, 8, 5, 9, 9],\n",
    " [8, 10, 9, 8, 8, 0, 3, 9, 3, 8, 8, 5],\n",
    " [9, 9, 8, 9, 10, 0, 3, 3, 6, 6, 8, 7],\n",
    " [10, 8, 0, 0, 8, 5, 9, 7, 3, 3, 5, 3],\n",
    " [0, 0, 8, 0, 8, 9, 10, 10, 9, 7, 5, 8],\n",
    " [9, 10, 9, 10, 8, 9, 5, 6, 4, 9, 5, 7],\n",
    " [10, 8, 0, 10, 10, 10, 0, 0, 8, 9, 9, 8],\n",
    " [0, 8, 10, 0, 9, 4, 4, 4, 9, 3, 6, 6],\n",
    " [9, 9, 9, 9, 8, 8, 9, 10, 4, 4, 4, 4],\n",
    " [0, 8, 0, 8, 8, 9, 8, 4, 6, 5, 9, 8],\n",
    " [8, 9, 9, 8, 0, 5, 4, 4, 7, 9, 4, 3],\n",
    " [10, 0, 9, 8, 8, 10, 10, 8, 4, 7, 6, 7],\n",
    " [8, 9, 0, 9, 0, 4, 8, 5, 6, 5, 8, 9],\n",
    " [8, 10, 8, 0, 9, 10, 0, 10, 7, 6, 4, 9],\n",
    " [9, 8, 8, 10, 9, 5, 9, 5, 8, 9, 4, 9],\n",
    " [0, 8, 9, 10, 9, 7, 3, 6, 5, 9, 7, 4],\n",
    " [0, 8, 9, 9, 8, 9, 9, 8, 5, 9, 8, 3],\n",
    " [0, 0, 10, 9, 10, 10, 10, 0, 3, 7, 7, 3],\n",
    " [8, 0, 8, 10, 10, 9, 7, 7, 7, 3, 7, 8],\n",
    " [8, 8, 10, 10, 9, 10, 8, 6, 6, 5, 6, 6],\n",
    " [0, 0, 8, 8, 0, 9, 8, 8, 6, 7, 4, 6],\n",
    " [9, 0, 0, 10, 8, 9, 10, 10, 3, 6, 7, 5],\n",
    " [9, 8, 9, 0, 0, 9, 8, 5, 4, 4, 8, 4],\n",
    " [9, 10, 0, 0, 8, 10, 8, 5, 6, 6, 6, 9],\n",
    " [9, 10, 0, 10, 0, 9, 9, 9, 3, 9, 6, 6],\n",
    " [9, 9, 10, 0, 9, 8, 9, 8, 4, 4, 9, 6],\n",
    " [10, 10, 10, 0, 8, 0, 6, 7, 9, 7, 6, 4],\n",
    " [9, 8, 9, 10, 0, 10, 8, 5, 5, 7, 7, 9],\n",
    " [10, 8, 10, 0, 9, 6, 7, 5, 3, 9, 8, 9],\n",
    " [9, 9, 8, 10, 10, 0, 10, 9, 5, 7, 4, 3],\n",
    " [0, 0, 10, 10, 0, 9, 0, 10, 4, 9, 6, 5],\n",
    " [9, 0, 8, 0, 0, 9, 4, 9, 6, 9, 7, 8],\n",
    " [9, 9, 8, 8, 8, 5, 7, 8, 4, 7, 7, 6],\n",
    " [8, 10, 9, 9, 10, 0, 4, 3, 8, 9, 4, 7],\n",
    " [0, 8, 0, 9, 10, 9, 0, 10, 7, 5, 4, 8],\n",
    " [0, 8, 0, 9, 0, 8, 9, 7, 6, 4, 3, 3],\n",
    " [9, 10, 9, 10, 8, 0, 7, 5, 5, 4, 7, 4],\n",
    " [10, 10, 8, 0, 10, 8, 9, 5, 8, 7, 6, 5],\n",
    " [8, 9, 0, 0, 10, 10, 0, 0, 9, 7, 8, 8]]"
   ]
  },
  {
   "cell_type": "code",
   "execution_count": 22,
   "metadata": {},
   "outputs": [
    {
     "data": {
      "text/plain": [
       "12"
      ]
     },
     "execution_count": 22,
     "metadata": {},
     "output_type": "execute_result"
    }
   ],
   "source": [
    "len(A[0])"
   ]
  },
  {
   "cell_type": "code",
   "execution_count": null,
   "metadata": {},
   "outputs": [],
   "source": []
  }
 ],
 "metadata": {
  "kernelspec": {
   "display_name": "droid1",
   "language": "python",
   "name": "droid1"
  },
  "language_info": {
   "codemirror_mode": {
    "name": "ipython",
    "version": 3
   },
   "file_extension": ".py",
   "mimetype": "text/x-python",
   "name": "python",
   "nbconvert_exporter": "python",
   "pygments_lexer": "ipython3",
   "version": "3.7.10"
  }
 },
 "nbformat": 4,
 "nbformat_minor": 4
}
